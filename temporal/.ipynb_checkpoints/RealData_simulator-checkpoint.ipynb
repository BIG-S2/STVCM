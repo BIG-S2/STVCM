{
 "cells": [
  {
   "cell_type": "code",
   "execution_count": 1,
   "id": "727b9764",
   "metadata": {},
   "outputs": [],
   "source": [
    "import numpy as np\n",
    "import pandas as pd\n",
    "import statsmodels.api as sm\n",
    "import statsmodels.formula.api as smf\n",
    "from itertools import product\n",
    "import multiprocessing as mp\n",
    "import os\n",
    "import warnings\n",
    "warnings.filterwarnings(\"ignore\")\n",
    "import sys\n",
    "path='C:/Users/annie/temporal/src'  \n",
    "if path not in sys.path:\n",
    "    sys.path.append(path)\n",
    "from model_new import VCM"
   ]
  },
  {
   "cell_type": "code",
   "execution_count": 2,
   "id": "60e18403",
   "metadata": {},
   "outputs": [],
   "source": [
    "def generate(df, ndays, ycol, main_regcols, state_regcols, acol, ti=1, delta=0):\n",
    "    dates = (df.index.get_level_values(0).unique())\n",
    "    number_of_days, nsamples_per_day = df[ycol].unstack().shape\n",
    "    dates_ = np.random.choice(dates, size=(ndays,), replace=True)\n",
    "    df_ = df.loc[[(x,y) for x in dates_ for y in range(1, nsamples_per_day+1)],:]\n",
    "    df_ = df_.reset_index()\n",
    "    df_['date'] = np.repeat(np.arange(ndays), nsamples_per_day)\n",
    "    df_.set_index(['date','time'], inplace=True)\n",
    "\n",
    "    mt = int(24/ti)\n",
    "    if ti < 24: # intra-day time interval\n",
    "        abv = np.tile(np.repeat([-1,1], nsamples_per_day//mt), mt//2)\n",
    "        bav = np.tile(np.repeat([1,-1], nsamples_per_day//mt), mt//2)\n",
    "        vec = np.hstack([abv, bav])\n",
    "    elif ti == 24: # inter-day time interval\n",
    "        av = -np.ones(nsamples_per_day)\n",
    "        bv =  np.ones(nsamples_per_day)\n",
    "        vec = np.hstack([av, bv])\n",
    "    df_[acol] = np.tile(vec, ndays//2)\n",
    "    df_[['eps_IE1', 'eps_IE2']] = df_[['eps_IE1', 'eps_IE2']]* np.repeat(np.random.randn(ndays), 2*M).reshape(ndays*M,2)\n",
    "    df_[['eta_IE1', 'eta_IE2']] = df_[['eta_IE1', 'eta_IE2']]* np.repeat(np.random.randn(ndays), 2*M).reshape(ndays*M,2)\n",
    "    for i in range(ndays):\n",
    "        for j in range(2,M+1):\n",
    "            df_.loc[(i,j),xcols] = df_.loc[(i,j-1),main_regcols].dot(model0.holder['theta_IE_0'][np.arange((j-1)*3, j*3),:]) + \\\n",
    "            df_.loc[(i,j),['eta_IE1', 'eta_IE2']].values + df_.loc[(i,j),['eps_IE1', 'eps_IE2']].values\n",
    "            df_.loc[(i,j),xcols] = df_.loc[(i,j),xcols] * (1+delta)\n",
    "    # generate outcome via params learned under null       \n",
    "    for i in range(ndays):\n",
    "        for j in range(1,M+1):\n",
    "            df_.loc[(i,j),'fitted_DE'] = sum(df_.loc[(i,j),main_regcols] * model0.holder['theta_DE_0'].loc[j-1,main_regcols])\n",
    "    df_[ycol] = (df_['fitted_DE'] + df_['eps_DE'] * np.repeat(np.random.randn(ndays), M) + \\\n",
    "                            df_['eta_DE'] * np.repeat(np.random.randn(ndays), M)).values\n",
    "    df_[ycol] = df_[ycol] * (1+delta)\n",
    "    for i in range(len(scols)):\n",
    "        df_[scols[i]] = np.append(0,np.delete(df_[xcols[i]].values, ndays*M-1))\n",
    "\n",
    "    return df_"
   ]
  },
  {
   "cell_type": "code",
   "execution_count": 3,
   "id": "df868150",
   "metadata": {},
   "outputs": [],
   "source": [
    "### simulation settings ###\n",
    "file = 'V2_cityA_serial_order_dispatch_AA.csv'\n",
    "# file = 'V2_cityB_serial_order_dispatch_AA.csv'\n",
    "ycol = 'gmv'#['gmv','cnt_answer','cnt_finish']\n",
    "xcols = ['cnt_call','sum_online_time']\n",
    "scols = ['cnt_call_lag','sum_online_time_lag']\n",
    "acol = 'is_exp'\n",
    "main_regcols = ['const'] + xcols\n",
    "state_regcols = ['const'] + scols\n",
    "\n",
    "nsim = 400\n",
    "\n",
    "two_sided = False\n",
    "wild_bootstrap = False\n",
    "\n",
    "\n",
    "wbi = 1 if wild_bootstrap else 0\n",
    "tsi = 1 if two_sided else 0\n",
    "ini = 0\n",
    "hc = 0.01\n"
   ]
  },
  {
   "cell_type": "code",
   "execution_count": 4,
   "id": "d0b6e4c6",
   "metadata": {},
   "outputs": [],
   "source": [
    "df = pd.read_csv('C:/Users/annie/temporal/data/'+file, index_col=['date','time'])\n",
    "df['const'] = 1\n",
    "df[acol] = -1\n",
    "M = len(df.index.get_level_values(1).unique())\n",
    "xyscols = [ycol] + main_regcols + scols + [acol]\n",
    "df = df[xyscols]\n",
    "\n",
    "model0 = VCM(df, ycol, xcols, acol, scols,\n",
    "                     two_sided=two_sided, \n",
    "                     wild_bootstrap=wild_bootstrap, \n",
    "                    center_x=True, scale_x=True,hc=hc)\n",
    "model0.estimate(null = True)\n",
    "\n",
    "df['fitted_DE'] = model0.holder['fitted_DE'].values\n",
    "df['eta_DE'] = model0.holder['eta_DE'].values; df['eps_DE'] = model0.holder['eps_DE'].values \n",
    "df['fitted_IE1'] = model0.holder['fitted_IE1'].values\n",
    "df['eta_IE1'] = model0.holder['eta_IE1'].values; df['eps_IE1'] = model0.holder['eps_IE1'].values\n",
    "df['fitted_IE2'] = model0.holder['fitted_IE2'].values\n",
    "df['eta_IE2'] = model0.holder['eta_IE2'].values; df['eps_IE2'] = model0.holder['eps_IE2'].values \n",
    "\n",
    "np.random.seed(4)\n",
    "df_ = generate(df, 14, ycol, main_regcols, state_regcols, acol, 1, 0.05)"
   ]
  },
  {
   "cell_type": "code",
   "execution_count": 5,
   "id": "8cae25b7",
   "metadata": {},
   "outputs": [],
   "source": [
    "df_full = df_.copy()"
   ]
  },
  {
   "cell_type": "code",
   "execution_count": 6,
   "id": "1a23ae35",
   "metadata": {},
   "outputs": [],
   "source": [
    "ycol = 'cnt_answer'#['gmv','cnt_answer','cnt_finish']\n",
    "df = pd.read_csv('C:/Users/annie/temporal/data/'+file, index_col=['date','time'])\n",
    "df['const'] = 1\n",
    "df[acol] = -1\n",
    "M = len(df.index.get_level_values(1).unique())\n",
    "xyscols = [ycol] + main_regcols + scols + [acol]\n",
    "df = df[xyscols]\n",
    "\n",
    "model0 = VCM(df, ycol, xcols, acol, scols,\n",
    "                     two_sided=two_sided, \n",
    "                     wild_bootstrap=wild_bootstrap, \n",
    "                    center_x=True, scale_x=True,hc=hc)\n",
    "model0.estimate(null = True)\n",
    "\n",
    "df['fitted_DE'] = model0.holder['fitted_DE'].values\n",
    "df['eta_DE'] = model0.holder['eta_DE'].values; df['eps_DE'] = model0.holder['eps_DE'].values \n",
    "df['fitted_IE1'] = model0.holder['fitted_IE1'].values\n",
    "df['eta_IE1'] = model0.holder['eta_IE1'].values; df['eps_IE1'] = model0.holder['eps_IE1'].values\n",
    "df['fitted_IE2'] = model0.holder['fitted_IE2'].values\n",
    "df['eta_IE2'] = model0.holder['eta_IE2'].values; df['eps_IE2'] = model0.holder['eps_IE2'].values \n",
    "\n",
    "np.random.seed(4)\n",
    "df_ = generate(df, 14, ycol, main_regcols, state_regcols, acol, 1, 0.05)"
   ]
  },
  {
   "cell_type": "code",
   "execution_count": 7,
   "id": "5a4ec1ee",
   "metadata": {},
   "outputs": [],
   "source": [
    "df_full[ycol] = df_[ycol]"
   ]
  },
  {
   "cell_type": "code",
   "execution_count": 8,
   "id": "345cb289",
   "metadata": {},
   "outputs": [],
   "source": [
    "ycol = 'cnt_finish'#['gmv','cnt_answer','cnt_finish']\n",
    "df = pd.read_csv('C:/Users/annie/temporal/data/'+file, index_col=['date','time'])\n",
    "df['const'] = 1\n",
    "df[acol] = -1\n",
    "M = len(df.index.get_level_values(1).unique())\n",
    "xyscols = [ycol] + main_regcols + scols + [acol]\n",
    "df = df[xyscols]\n",
    "\n",
    "model0 = VCM(df, ycol, xcols, acol, scols,\n",
    "                     two_sided=two_sided, \n",
    "                     wild_bootstrap=wild_bootstrap, \n",
    "                    center_x=True, scale_x=True,hc=hc)\n",
    "model0.estimate(null = True)\n",
    "\n",
    "df['fitted_DE'] = model0.holder['fitted_DE'].values\n",
    "df['eta_DE'] = model0.holder['eta_DE'].values; df['eps_DE'] = model0.holder['eps_DE'].values \n",
    "df['fitted_IE1'] = model0.holder['fitted_IE1'].values\n",
    "df['eta_IE1'] = model0.holder['eta_IE1'].values; df['eps_IE1'] = model0.holder['eps_IE1'].values\n",
    "df['fitted_IE2'] = model0.holder['fitted_IE2'].values\n",
    "df['eta_IE2'] = model0.holder['eta_IE2'].values; df['eps_IE2'] = model0.holder['eps_IE2'].values \n",
    "\n",
    "np.random.seed(4)\n",
    "df_ = generate(df, 14, ycol, main_regcols, state_regcols, acol, 1, 0.05)"
   ]
  },
  {
   "cell_type": "code",
   "execution_count": 9,
   "id": "902e7779",
   "metadata": {},
   "outputs": [],
   "source": [
    "df_full[ycol] = df_[ycol]"
   ]
  },
  {
   "cell_type": "code",
   "execution_count": 10,
   "id": "6529d9c6",
   "metadata": {},
   "outputs": [],
   "source": [
    "df_full.to_csv('C:/Users/annie/temporal/data/V2_S4_serial_order_dispatch_AB.csv',index=False)"
   ]
  }
 ],
 "metadata": {
  "kernelspec": {
   "display_name": "Python 3 (ipykernel)",
   "language": "python",
   "name": "python3"
  },
  "language_info": {
   "codemirror_mode": {
    "name": "ipython",
    "version": 3
   },
   "file_extension": ".py",
   "mimetype": "text/x-python",
   "name": "python",
   "nbconvert_exporter": "python",
   "pygments_lexer": "ipython3",
   "version": "3.9.13"
  }
 },
 "nbformat": 4,
 "nbformat_minor": 5
}
