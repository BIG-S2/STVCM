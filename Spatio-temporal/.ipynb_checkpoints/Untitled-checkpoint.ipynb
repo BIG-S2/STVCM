{
 "cells": [
  {
   "cell_type": "code",
   "execution_count": 1,
   "metadata": {},
   "outputs": [],
   "source": [
    "import numpy as np\n",
    "from numpy import kron\n",
    "import pandas as pd\n",
    "import statsmodels.api as sm"
   ]
  },
  {
   "cell_type": "code",
   "execution_count": 3,
   "metadata": {},
   "outputs": [],
   "source": [
    "ycol = 'gmv'#,'cnt_grab', 'cnt_finish']\n",
    "xcol = 'cnt_call'#,'sum_online_time']\n",
    "scol = 'cnt_call_1'#the lag term\n",
    "acol = 'is_exp'\n",
    "acol_n = 'is_exp_n'\n",
    "regcols = ['const'] + [xcol]"
   ]
  },
  {
   "cell_type": "code",
   "execution_count": 11,
   "metadata": {},
   "outputs": [],
   "source": [
    "file = 'V1_CityF_pool.csv' # 'V1_CityE_expand_withID.csv'  \n",
    "df = pd.read_csv('C:/Users/annie/Spatio-temporal/data/'+file, index_col=['grid_id','date','time'])"
   ]
  },
  {
   "cell_type": "code",
   "execution_count": 12,
   "metadata": {},
   "outputs": [],
   "source": [
    "grids = df.index.get_level_values(0).unique()\n",
    "dates = df.index.get_level_values(1).unique()\n",
    "times = df.index.get_level_values(2).unique()\n",
    "G = len(grids)\n",
    "N = len(dates)\n",
    "M = len(times)\n",
    "NM = N * M\n",
    "GNM = df.shape[0]\n",
    "px = len([xcol])"
   ]
  },
  {
   "cell_type": "code",
   "execution_count": 13,
   "metadata": {},
   "outputs": [],
   "source": [
    "mx = np.repeat(df[xcol].groupby('grid_id').mean(), NM)\n",
    "df[xcol] = df[xcol].values - mx.values\n",
    "sx = np.repeat(df[xcol].groupby('grid_id').std(), NM)\n",
    "df[xcol] = df[xcol].values / sx.values\n",
    "sy = np.repeat(df[ycol].groupby('grid_id').std(), NM).values\n",
    "sy1 = df[ycol].groupby('grid_id').std().values\n",
    "df[ycol] /= sy\n",
    "# ss = np.repeat(df[scol].groupby('grid_id').std(),NM).values\n",
    "# ss1 = df[scol].groupby('grid_id').std().values\n",
    "# df[scol] /=ss"
   ]
  },
  {
   "cell_type": "code",
   "execution_count": 14,
   "metadata": {},
   "outputs": [],
   "source": [
    "df.to_csv('C:/Users/annie/Spatio-temporal/data/'+file)"
   ]
  }
 ],
 "metadata": {
  "kernelspec": {
   "display_name": "Python 3 (ipykernel)",
   "language": "python",
   "name": "python3"
  },
  "language_info": {
   "codemirror_mode": {
    "name": "ipython",
    "version": 3
   },
   "file_extension": ".py",
   "mimetype": "text/x-python",
   "name": "python",
   "nbconvert_exporter": "python",
   "pygments_lexer": "ipython3",
   "version": "3.9.13"
  }
 },
 "nbformat": 4,
 "nbformat_minor": 4
}
